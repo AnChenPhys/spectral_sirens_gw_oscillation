{
 "cells": [
  {
   "cell_type": "code",
   "execution_count": 1,
   "metadata": {},
   "outputs": [],
   "source": [
    "import numpy as np\n",
    "\n",
    "#PYTHON MODULES\n",
    "from spectral_sirens.detectors import sensitivity_curves as sc\n",
    "from spectral_sirens.detectors import horizon"
   ]
  },
  {
   "cell_type": "markdown",
   "metadata": {},
   "source": [
    "We load the sensitivity curves"
   ]
  },
  {
   "cell_type": "code",
   "execution_count": 2,
   "metadata": {},
   "outputs": [],
   "source": [
    "Sn_O3, fmin_O3, fmax_O3 = sc.detector_psd('O3')\n",
    "Sn_O4, fmin_O4, fmax_O4 = sc.detector_psd('O4')\n",
    "Sn_Aplus, fmin_Aplus, fmax_Aplus = sc.detector_psd('A+')\n",
    "Sn_Asharp, fmin_Asharp, fmax_Asharp = sc.detector_psd('A#')\n",
    "Sn_CE, fmin_CE, fmax_CE = sc.detector_psd('CE-40')\n",
    "based = 'ground'\n",
    "snr_th = 8."
   ]
  },
  {
   "cell_type": "markdown",
   "metadata": {},
   "source": [
    "We compute the horizon distance"
   ]
  },
  {
   "cell_type": "code",
   "execution_count": 3,
   "metadata": {},
   "outputs": [],
   "source": [
    "nfs = 20 #100 gives detailed results\n",
    "fs_O3=np.logspace(np.log10(fmin_O3),np.log10(fmax_O3),nfs)\n",
    "fs_O4=np.logspace(np.log10(fmin_O4),np.log10(fmax_O4),nfs)\n",
    "fs_Aplus=np.logspace(np.log10(fmin_Aplus),np.log10(fmax_Aplus),nfs)\n",
    "fs_Asharp=np.logspace(np.log10(fmin_Asharp),np.log10(fmax_Asharp),nfs)\n",
    "fs_CE=np.logspace(np.log10(fmin_CE),np.log10(fmax_CE),nfs)\n",
    "\n",
    "nms = 20 #500 gives detailed results\n",
    "masses = np.logspace(np.log10(0.5),5,nms)\n",
    "masses_ext = np.logspace(np.log10(0.5),7.,nms)\n",
    "Tobs = 1.0\n",
    "\n",
    "zhor_O3 = horizon.zhor_max(masses,masses,fs_O3,Tobs,Sn_O3,fmin_O3,fmax_O3,based,snr_th)\n",
    "zhor_O4 = horizon.zhor_max(masses,masses,fs_O4,Tobs,Sn_O4,fmin_O4,fmax_O4,based,snr_th)\n",
    "zhor_Aplus = horizon.zhor_max(masses,masses,fs_Aplus,Tobs,Sn_Aplus,fmin_Aplus,fmax_Aplus,based,snr_th)\n",
    "zhor_Asharp = horizon.zhor_max(masses,masses,fs_Asharp,Tobs,Sn_Asharp,fmin_Asharp,fmax_Asharp,based,snr_th)\n",
    "zhor_CE = horizon.zhor_max(masses,masses,fs_CE,Tobs,Sn_CE,fmin_CE,fmax_CE,based,snr_th)"
   ]
  },
  {
   "cell_type": "markdown",
   "metadata": {},
   "source": [
    "For later use, we can save the horizon distance"
   ]
  },
  {
   "cell_type": "code",
   "execution_count": null,
   "metadata": {},
   "outputs": [],
   "source": [
    "np.savetxt('gw_detector_horizon/zhor_max_o3.txt',np.column_stack((2.*masses/(1.+zhor_O3),zhor_O3)),delimiter = ' ')\n",
    "np.savetxt('gw_detector_horizon/zhor_max_o4.txt',np.column_stack((2.*masses/(1.+zhor_O4),zhor_O4)),delimiter = ' ')\n",
    "np.savetxt('gw_detector_horizon/zhor_max_aplus.txt',np.column_stack((2.*masses/(1.+zhor_Aplus),zhor_Aplus)),delimiter = ' ')\n",
    "np.savetxt('gw_detector_horizon/zhor_max_asharp.txt',np.column_stack((2.*masses/(1.+zhor_Asharp),zhor_Asharp)),delimiter = ' ')\n",
    "np.savetxt('gw_detector_horizon/zhor_max_ce.txt',np.column_stack((2.*masses/(1.+zhor_CE),zhor_CE)),delimiter = ' ')"
   ]
  }
 ],
 "metadata": {
  "kernelspec": {
   "display_name": "igwn-py310",
   "language": "python",
   "name": "python3"
  },
  "language_info": {
   "codemirror_mode": {
    "name": "ipython",
    "version": 3
   },
   "file_extension": ".py",
   "mimetype": "text/x-python",
   "name": "python",
   "nbconvert_exporter": "python",
   "pygments_lexer": "ipython3",
   "version": "3.10.12"
  }
 },
 "nbformat": 4,
 "nbformat_minor": 2
}
