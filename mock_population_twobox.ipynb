{
 "cells": [
  {
   "cell_type": "markdown",
   "metadata": {},
   "source": [
    "# Mock population - two box model\n",
    "\n",
    "In this notebook we generate a mock catalog of GW events"
   ]
  },
  {
   "cell_type": "code",
   "execution_count": 1,
   "metadata": {},
   "outputs": [],
   "source": [
    "#IMPORT\n",
    "import numpy as np\n",
    "import matplotlib.pyplot as plt\n",
    "from scipy.integrate import cumtrapz, trapz\n",
    "import scipy.stats as stats\n",
    "import time\n",
    "\n",
    "\n",
    "#PYTHON MODULES\n",
    "from constants import *\n",
    "import gwcosmo\n",
    "import gwpop\n",
    "import gwutils\n",
    "import utils\n",
    "import sensitivity_curves as sc\n",
    "\n",
    "#PLOTS\n",
    "import sys\n",
    "dir_base=sys.path[0]\n",
    "dir_out=dir_base+\"/plots_spectral_sirens/\"\n",
    "\n",
    "#from matplotlib.ticker import ScalarFormatter\n",
    "#%config InlineBackend.figure_format = 'retina'\n",
    "#plt.rc('text', usetex=True)\n",
    "#plt.rc('font', family='serif')\n",
    "fontSz = 15\n",
    "fontsz = 13\n",
    "fontssz = 11\n",
    "\n",
    "new_colors = ['#1f77b4', '#ff7f0e', '#2ca02c', '#d62728',\n",
    "              '#9467bd', '#8c564b', '#e377c2', '#7f7f7f',\n",
    "              '#bcbd22', '#17becf']"
   ]
  },
  {
   "cell_type": "markdown",
   "metadata": {},
   "source": [
    "---\n",
    "We load our fiducial universe parameters"
   ]
  },
  {
   "cell_type": "code",
   "execution_count": 2,
   "metadata": {},
   "outputs": [],
   "source": [
    "from fiducial_universe import *\n",
    "\n",
    "edge_1_fid = 5.0\n",
    "edge_2_fid = 76.25\n",
    "width_1_fid = 23.75\n",
    "width_2_fid = width_1_fid\n",
    "filter_fid = 1.0"
   ]
  },
  {
   "cell_type": "code",
   "execution_count": 3,
   "metadata": {},
   "outputs": [],
   "source": [
    "fmin = 10.\n",
    "Tobs = 1.\n",
    "detector = 'O5'\n",
    "det_Sc = sc.O5\n",
    "based = 'ground'\n",
    "snr_th = 8.0"
   ]
  },
  {
   "cell_type": "markdown",
   "metadata": {},
   "source": [
    "We define the source populations in source masses and redshift.\n",
    "\n",
    "In this case we choose:\n",
    "- Refshift: SFR like function\n",
    "- Primary mass: smooth two-box model\n",
    "- Secondary mass: uniform in mass ratio"
   ]
  },
  {
   "cell_type": "code",
   "execution_count": 4,
   "metadata": {},
   "outputs": [],
   "source": [
    "def mock_source_parameters(n_sources,H0,Om0,edge_1,width_1,edge_2,width_2,filter,zp,alpha_z,beta):\n",
    "    zs = np.linspace(0.01,10,1000)\n",
    "    cdf_z = cumtrapz(gwcosmo.diff_comoving_volume_approx(zs,H0,Om0)*gwpop.rate_z(zs,zp,alpha_z,beta)/(1+zs),zs,initial=0)\n",
    "    cdf_z /= cdf_z[-1]\n",
    "    masses = np.linspace(tmp_min,tmp_max,1000)\n",
    "    cdf_m1 = cumtrapz(gwpop.two_box(masses,edge_1,width_1,edge_2,width_2,filter),masses,initial=0)\n",
    "    cdf_m1 /= cdf_m1[-1]\n",
    "\n",
    "    z_mock = utils.inverse_transf_sampling(cdf_z,zs,n_sources)\n",
    "    m1_mock = utils.inverse_transf_sampling(cdf_m1,masses,n_sources)\n",
    "    q_mock = np.random.uniform(0,1,n_sources)\n",
    "    m2_mock = m1_mock * q_mock\n",
    "    dL_mock = gwcosmo.dL_approx(z_mock,H0,Om0)\n",
    "    m1z_mock = (1 + z_mock) * m1_mock\n",
    "    m2z_mock = (1 + z_mock) * m2_mock\n",
    "    return m1z_mock, m2z_mock, dL_mock"
   ]
  },
  {
   "cell_type": "markdown",
   "metadata": {},
   "source": [
    "When computing the mock detections we follow the recipe of https://arxiv.org/pdf/1911.05882.pdf to estimate the observed posteriors"
   ]
  },
  {
   "cell_type": "code",
   "execution_count": 5,
   "metadata": {},
   "outputs": [],
   "source": [
    "def mock_population(n_sources,n_detections,n_samples,H0,Om0,edge_1,width_1,edge_2,width_2,filter,zp,alpha_z,beta,snr_th,fmin,Tobs,detector,*args):\n",
    "    #n_sources : number of sources to run code\n",
    "    #n_samples : number of posterior samples per detection\n",
    "    \n",
    "    #Mock source paramters\n",
    "    ww = np.linspace(0.0,1.0,1000)\n",
    "    cdf_ww = 1.0-gwutils.pw_hl(ww)\n",
    "    m1z_mock_pop, m2z_mock_pop, dL_mock_pop = mock_source_parameters(n_sources,H0,Om0,edge_1,width_1,edge_2,width_2,filter,zp,alpha_z,beta)\n",
    "    \n",
    "    #SNR calcultion: optimal SNR -> true SNR -> observed SNR\n",
    "    snr_opt_mock_pop = gwutils.vsnr(m1z_mock_pop,m2z_mock_pop,dL_mock_pop,fmin,Tobs,det_Sc,based)\n",
    "    w_mock_pop = utils.inverse_transf_sampling(cdf_ww,ww,n_sources) #random draw\n",
    "    snr_true_mock_pop = snr_opt_mock_pop*w_mock_pop\n",
    "    snr_obs_mock_pop = gwutils.observed_snr(snr_true_mock_pop)\n",
    "\n",
    "    #Detected population\n",
    "    detected = snr_obs_mock_pop > snr_th\n",
    "    snr_opt_mock = snr_opt_mock_pop[detected]\n",
    "    snr_true_mock = snr_true_mock_pop[detected]\n",
    "    snr_obs_mock = snr_obs_mock_pop[detected]\n",
    "    m1z_mock = m1z_mock_pop[detected]\n",
    "    m2z_mock = m2z_mock_pop[detected]\n",
    "    dL_mock = dL_mock_pop[detected]\n",
    "    \n",
    "    snr_opt_mock = snr_opt_mock_pop[detected]\n",
    "    snr_true_mock = snr_true_mock_pop[detected]\n",
    "    snr_obs_mock = snr_obs_mock_pop[detected]\n",
    "    m1z_mock = m1z_mock_pop[detected]\n",
    "    m2z_mock = m2z_mock_pop[detected]\n",
    "    dL_mock = dL_mock_pop[detected]\n",
    "    \n",
    "    while np.size(snr_opt_mock) < n_detections:    \n",
    "        m1z_mock_pop, m2z_mock_pop, dL_mock_pop = mock_source_parameters(n_sources,H0,Om0,edge_1,width_1,edge_2,width_2,filter,zp,alpha_z,beta)\n",
    "        snr_opt_mock_pop = gwutils.vsnr(m1z_mock_pop,m2z_mock_pop,dL_mock_pop,fmin,Tobs,det_Sc,based)\n",
    "        w_mock_pop = utils.inverse_transf_sampling(cdf_ww,ww,n_sources) #random draw\n",
    "        snr_true_mock_pop = snr_opt_mock_pop*w_mock_pop\n",
    "        snr_obs_mock_pop = gwutils.observed_snr(snr_true_mock_pop)\n",
    "    \n",
    "        detected = snr_obs_mock_pop > snr_th\n",
    "        snr_opt_mock_add = snr_opt_mock_pop[detected]\n",
    "        snr_true_mock_add = snr_true_mock_pop[detected]\n",
    "        snr_obs_mock_add = snr_obs_mock_pop[detected]\n",
    "        m1z_mock_add = m1z_mock_pop[detected]\n",
    "        m2z_mock_add = m2z_mock_pop[detected]\n",
    "        dL_mock_add = dL_mock_pop[detected]\n",
    "    \n",
    "        snr_opt_mock = np.append(snr_opt_mock,snr_opt_mock_add)\n",
    "        snr_true_mock = np.append(snr_true_mock,snr_true_mock_add)\n",
    "        snr_obs_mock = np.append(snr_obs_mock,snr_obs_mock_add)\n",
    "        m1z_mock = np.append(m1z_mock,m1z_mock_add)\n",
    "        m2z_mock = np.append(m2z_mock,m2z_mock_add)\n",
    "        dL_mock = np.append(dL_mock,dL_mock_add)\n",
    "    \n",
    "    snr_opt_mock_det = snr_opt_mock[0:n_detections]\n",
    "    snr_true_mock_det = snr_true_mock[0:n_detections]\n",
    "    snr_obs_mock_det = snr_obs_mock[0:n_detections]\n",
    "    m1z_mock_det = m1z_mock[0:n_detections] \n",
    "    m2z_mock_det = m2z_mock[0:n_detections]\n",
    "    dL_mock_det = dL_mock[0:n_detections]\n",
    "    \n",
    "    m1z_mock_samples = np.zeros((n_detections,n_samples))\n",
    "    m2z_mock_samples = np.zeros((n_detections,n_samples))\n",
    "    dL_mock_samples = np.zeros((n_detections,n_samples))\n",
    "    pdraw_mock_samples = np.zeros((n_detections,n_samples))\n",
    "    for i in range(n_detections):\n",
    "        m1z_mock_samples[i,:], m2z_mock_samples[i,:], dL_mock_samples[i,:], pdraw_mock_samples[i,:] = gwutils.observed_posteriors(n_samples,\n",
    "                                                          m1z_mock_det[i],\n",
    "                                                          m2z_mock_det[i],\n",
    "                                                          dL_mock_det[i],\n",
    "                                                          snr_opt_mock_det[i],\n",
    "                                                          snr_true_mock_det[i],\n",
    "                                                          snr_obs_mock_det[i],\n",
    "                                                          snr_th,\n",
    "                                                          fmin,\n",
    "                                                          Tobs,\n",
    "                                                          detector,\n",
    "                                                          *args)\n",
    "        \n",
    "    return m1z_mock_samples, m2z_mock_samples, dL_mock_samples, pdraw_mock_samples"
   ]
  },
  {
   "cell_type": "code",
   "execution_count": 8,
   "metadata": {},
   "outputs": [],
   "source": [
    "n_detections = 1000\n",
    "n_samples = 20\n",
    "n_sources = n_detections*10\n",
    "\n",
    "m1z_mock_samples = np.zeros((n_detections,n_samples))\n",
    "m2z_mock_samples = np.zeros((n_detections,n_samples))\n",
    "dL_mock_samples = np.zeros((n_detections,n_samples))\n",
    "pdraw_mock_samples = np.zeros((n_detections,n_samples))\n",
    "\n",
    "starttime = time.time()\n",
    "\n",
    "m1z_mock_samples,m2z_mock_samples,dL_mock_samples,pdraw_mock_samples = mock_population(n_sources,\n",
    "                                        n_detections,\n",
    "                                        n_samples,\n",
    "                                        H0_fid,\n",
    "                                        Om0_fid,\n",
    "                                        edge_1_fid,\n",
    "                                        width_1_fid,\n",
    "                                        edge_2_fid,\n",
    "                                        width_2_fid,\n",
    "                                        filter_fid,\n",
    "                                        zp_fid,\n",
    "                                        alpha_z_fid,\n",
    "                                        beta_fid,\n",
    "                                        snr_th,\n",
    "                                        fmin,\n",
    "                                        Tobs,\n",
    "                                        det_Sc,\n",
    "                                        based)\n",
    "\n",
    "print('Time taken = {} seconds'.format(time.time() - starttime))"
   ]
  },
  {
   "cell_type": "code",
   "execution_count": null,
   "metadata": {},
   "outputs": [],
   "source": [
    "np.save('data_mock_catalogues/m1z_'+detector+'_Ndet_%s_Nsamples_%s_twobox' % (n_detections,n_samples),m1z_mock_samples)\n",
    "np.save('data_mock_catalogues/m2z_'+detector+'_Ndet_%s_Nsamples_%s_twobox' % (n_detections,n_samples),m2z_mock_samples)\n",
    "np.save('data_mock_catalogues/dL_'+detector+'_Ndet_%s_Nsamples_%s_twobox' % (n_detections,n_samples),dL_mock_samples)\n",
    "np.save('data_mock_catalogues/pdraw_'+detector+'_Ndet_%s_Nsamples_%s_twobox' % (n_detections,n_samples),pdraw_mock_samples)"
   ]
  },
  {
   "cell_type": "code",
   "execution_count": null,
   "metadata": {},
   "outputs": [],
   "source": []
  }
 ],
 "metadata": {
  "kernelspec": {
   "display_name": "igwn-py310",
   "language": "python",
   "name": "python3"
  },
  "language_info": {
   "codemirror_mode": {
    "name": "ipython",
    "version": 3
   },
   "file_extension": ".py",
   "mimetype": "text/x-python",
   "name": "python",
   "nbconvert_exporter": "python",
   "pygments_lexer": "ipython3",
   "version": "3.10.12"
  }
 },
 "nbformat": 4,
 "nbformat_minor": 2
}
